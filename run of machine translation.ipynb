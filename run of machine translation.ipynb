{
 "cells": [
  {
   "cell_type": "code",
   "execution_count": 1,
   "id": "d5e0ea9a",
   "metadata": {},
   "outputs": [
    {
     "name": "stdout",
     "output_type": "stream",
     "text": [
      "Requirement already satisfied: sacremoses in c:\\users\\maraw\\anaconda3\\lib\\site-packages (0.0.43)\n",
      "Requirement already satisfied: regex in c:\\users\\maraw\\anaconda3\\lib\\site-packages (from sacremoses) (2022.7.9)\n",
      "Requirement already satisfied: six in c:\\users\\maraw\\anaconda3\\lib\\site-packages (from sacremoses) (1.16.0)\n",
      "Requirement already satisfied: click in c:\\users\\maraw\\anaconda3\\lib\\site-packages (from sacremoses) (8.0.4)\n",
      "Requirement already satisfied: joblib in c:\\users\\maraw\\anaconda3\\lib\\site-packages (from sacremoses) (1.2.0)\n",
      "Requirement already satisfied: tqdm in c:\\users\\maraw\\anaconda3\\lib\\site-packages (from sacremoses) (4.67.1)\n",
      "Requirement already satisfied: colorama in c:\\users\\maraw\\anaconda3\\lib\\site-packages (from click->sacremoses) (0.4.6)\n",
      "* Running on local URL:  http://127.0.0.1:7860\n",
      "\n",
      "To create a public link, set `share=True` in `launch()`.\n"
     ]
    },
    {
     "data": {
      "text/html": [
       "<div><iframe src=\"http://127.0.0.1:7860/\" width=\"100%\" height=\"500\" allow=\"autoplay; camera; microphone; clipboard-read; clipboard-write;\" frameborder=\"0\" allowfullscreen></iframe></div>"
      ],
      "text/plain": [
       "<IPython.core.display.HTML object>"
      ]
     },
     "metadata": {},
     "output_type": "display_data"
    },
    {
     "data": {
      "text/plain": []
     },
     "execution_count": 1,
     "metadata": {},
     "output_type": "execute_result"
    }
   ],
   "source": [
    "!pip install sacremoses\n",
    "import os\n",
    "os.environ[\"TRANSFORMERS_NO_TF\"] = \"1\" \n",
    "import gradio as gr\n",
    "from transformers import AutoModelForSeq2SeqLM, AutoTokenizer\n",
    "import torch\n",
    "\n",
    "\n",
    "def load_model_and_translate(model_path, tokenizer_path, input_text):\n",
    "    model = AutoModelForSeq2SeqLM.from_pretrained(model_path)\n",
    "    tokenizer = AutoTokenizer.from_pretrained(tokenizer_path)\n",
    "    inputs = tokenizer(input_text, return_tensors=\"pt\", padding=True, truncation=True)\n",
    "    with torch.no_grad():\n",
    "        generated_ids = model.generate(inputs['input_ids'], max_length=512, num_beams=4, early_stopping=True)\n",
    "    translated_text = tokenizer.decode(generated_ids[0], skip_special_tokens=True)\n",
    "    return translated_text\n",
    "\n",
    "\n",
    "def translate(input_text):\n",
    "    model_path = \"C://Users//maraw//Downloads//checkpoint-150-20250420T200307Z-001//checkpoint-150\"\n",
    "    tokenizer_path = model_path\n",
    "    translated_text = load_model_and_translate(model_path, tokenizer_path, input_text)\n",
    "    return translated_text\n",
    "\n",
    "iface = gr.Interface(\n",
    "    fn=translate,\n",
    "    inputs=gr.Textbox(label=\"Enter Text in English\", lines=2),\n",
    "    outputs=gr.Textbox(label=\"Translated Text in Vietnamese\", lines=2),\n",
    "    title=\"English to Vietnamese Translation\",\n",
    "    description=\"Enter English text to get the Vietnamese translation using a fine-tuned MarianMT model.\"\n",
    ")\n",
    "\n",
    "\n",
    "iface.launch()\n",
    "\n"
   ]
  },
  {
   "cell_type": "code",
   "execution_count": null,
   "id": "c49d8d65",
   "metadata": {},
   "outputs": [],
   "source": []
  }
 ],
 "metadata": {
  "kernelspec": {
   "display_name": "Python 3 (ipykernel)",
   "language": "python",
   "name": "python3"
  },
  "language_info": {
   "codemirror_mode": {
    "name": "ipython",
    "version": 3
   },
   "file_extension": ".py",
   "mimetype": "text/x-python",
   "name": "python",
   "nbconvert_exporter": "python",
   "pygments_lexer": "ipython3",
   "version": "3.11.3"
  }
 },
 "nbformat": 4,
 "nbformat_minor": 5
}
