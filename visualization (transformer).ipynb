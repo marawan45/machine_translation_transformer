{
 "cells": [
  {
   "cell_type": "code",
   "execution_count": null,
   "id": "255ad4f9",
   "metadata": {},
   "outputs": [],
   "source": [
    "import matplotlib.pyplot as plt\n",
    "\n",
    "\n",
    "scores = {\n",
    "    \"BLEU\": round(bleu[\"score\"], 4),\n",
    "    \"ROUGE-L\": round(rouge[\"rougeL\"], 4),\n",
    "    \"METEOR\": round(meteor[\"meteor\"], 4),\n",
    "}\n",
    "\n",
    "\n",
    "plt.figure(figsize=(6, 4))\n",
    "plt.bar(scores.keys(), scores.values(), color=[\"#1f77b4\", \"#ff7f0e\", \"#2ca02c\"])\n",
    "plt.ylabel(\"Score\")\n",
    "plt.title(\"Translation Evaluation Metrics\")\n",
    "plt.ylim(0, 100)\n",
    "for i, (key, value) in enumerate(scores.items()):\n",
    "    plt.text(i, value + 1, f\"{value:.2f}\", ha='center')\n",
    "plt.grid(axis='y', linestyle='--', alpha=0.6)\n",
    "plt.tight_layout()\n",
    "plt.show()"
   ]
  },
  {
   "cell_type": "code",
   "execution_count": null,
   "id": "6aedba3e",
   "metadata": {},
   "outputs": [],
   "source": [
    "loss_vals = trainer.state.log_history\n",
    "train_losses = [x[\"loss\"] for x in loss_vals if \"loss\" in x]\n",
    "\n",
    "plt.plot(train_losses, label=\"Train Loss\")\n",
    "\n",
    "plt.xlabel(\"Epochs\")\n",
    "plt.ylabel(\"Metric\")\n",
    "plt.title(\"Training Curve\")\n",
    "plt.legend()\n",
    "plt.show()"
   ]
  },
  {
   "cell_type": "code",
   "execution_count": null,
   "id": "497f689c",
   "metadata": {},
   "outputs": [],
   "source": []
  },
  {
   "cell_type": "code",
   "execution_count": null,
   "id": "e15628c2",
   "metadata": {},
   "outputs": [],
   "source": []
  },
  {
   "cell_type": "code",
   "execution_count": null,
   "id": "14b03c93",
   "metadata": {},
   "outputs": [],
   "source": []
  },
  {
   "cell_type": "code",
   "execution_count": null,
   "id": "15b345b8",
   "metadata": {},
   "outputs": [],
   "source": []
  },
  {
   "cell_type": "code",
   "execution_count": null,
   "id": "b5b884e5",
   "metadata": {},
   "outputs": [],
   "source": []
  },
  {
   "cell_type": "code",
   "execution_count": null,
   "id": "d76d7df4",
   "metadata": {},
   "outputs": [],
   "source": []
  }
 ],
 "metadata": {
  "kernelspec": {
   "display_name": "Python 3 (ipykernel)",
   "language": "python",
   "name": "python3"
  },
  "language_info": {
   "codemirror_mode": {
    "name": "ipython",
    "version": 3
   },
   "file_extension": ".py",
   "mimetype": "text/x-python",
   "name": "python",
   "nbconvert_exporter": "python",
   "pygments_lexer": "ipython3",
   "version": "3.11.3"
  }
 },
 "nbformat": 4,
 "nbformat_minor": 5
}
